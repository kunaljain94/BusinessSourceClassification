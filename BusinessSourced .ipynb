{
 "cells": [
  {
   "cell_type": "code",
   "execution_count": 1,
   "metadata": {},
   "outputs": [],
   "source": [
    "import pandas as pd\n",
    "import numpy as np\n",
    "import matplotlib.pyplot as plt\n",
    "import seaborn as sns"
   ]
  },
  {
   "cell_type": "code",
   "execution_count": 2,
   "metadata": {},
   "outputs": [],
   "source": [
    "df=pd.read_csv(\"Train_gQ1XM0h.csv\")"
   ]
  },
  {
   "cell_type": "code",
   "execution_count": 3,
   "metadata": {},
   "outputs": [
    {
     "data": {
      "text/html": [
       "<div>\n",
       "<style scoped>\n",
       "    .dataframe tbody tr th:only-of-type {\n",
       "        vertical-align: middle;\n",
       "    }\n",
       "\n",
       "    .dataframe tbody tr th {\n",
       "        vertical-align: top;\n",
       "    }\n",
       "\n",
       "    .dataframe thead th {\n",
       "        text-align: right;\n",
       "    }\n",
       "</style>\n",
       "<table border=\"1\" class=\"dataframe\">\n",
       "  <thead>\n",
       "    <tr style=\"text-align: right;\">\n",
       "      <th></th>\n",
       "      <th>ID</th>\n",
       "      <th>Office_PIN</th>\n",
       "      <th>Application_Receipt_Date</th>\n",
       "      <th>Applicant_City_PIN</th>\n",
       "      <th>Applicant_Gender</th>\n",
       "      <th>Applicant_BirthDate</th>\n",
       "      <th>Applicant_Marital_Status</th>\n",
       "      <th>Applicant_Occupation</th>\n",
       "      <th>Applicant_Qualification</th>\n",
       "      <th>Manager_DOJ</th>\n",
       "      <th>...</th>\n",
       "      <th>Manager_Status</th>\n",
       "      <th>Manager_Gender</th>\n",
       "      <th>Manager_DoB</th>\n",
       "      <th>Manager_Num_Application</th>\n",
       "      <th>Manager_Num_Coded</th>\n",
       "      <th>Manager_Business</th>\n",
       "      <th>Manager_Num_Products</th>\n",
       "      <th>Manager_Business2</th>\n",
       "      <th>Manager_Num_Products2</th>\n",
       "      <th>Business_Sourced</th>\n",
       "    </tr>\n",
       "  </thead>\n",
       "  <tbody>\n",
       "    <tr>\n",
       "      <th>0</th>\n",
       "      <td>FIN1000001</td>\n",
       "      <td>842001</td>\n",
       "      <td>4/16/2007</td>\n",
       "      <td>844120.0</td>\n",
       "      <td>M</td>\n",
       "      <td>12/19/1971</td>\n",
       "      <td>M</td>\n",
       "      <td>Others</td>\n",
       "      <td>Graduate</td>\n",
       "      <td>11/10/2005</td>\n",
       "      <td>...</td>\n",
       "      <td>Confirmation</td>\n",
       "      <td>M</td>\n",
       "      <td>2/17/1978</td>\n",
       "      <td>2.0</td>\n",
       "      <td>1.0</td>\n",
       "      <td>335249.0</td>\n",
       "      <td>28.0</td>\n",
       "      <td>335249.0</td>\n",
       "      <td>28.0</td>\n",
       "      <td>0</td>\n",
       "    </tr>\n",
       "    <tr>\n",
       "      <th>1</th>\n",
       "      <td>FIN1000002</td>\n",
       "      <td>842001</td>\n",
       "      <td>4/16/2007</td>\n",
       "      <td>844111.0</td>\n",
       "      <td>M</td>\n",
       "      <td>2/17/1983</td>\n",
       "      <td>S</td>\n",
       "      <td>Others</td>\n",
       "      <td>Class XII</td>\n",
       "      <td>11/10/2005</td>\n",
       "      <td>...</td>\n",
       "      <td>Confirmation</td>\n",
       "      <td>M</td>\n",
       "      <td>2/17/1978</td>\n",
       "      <td>2.0</td>\n",
       "      <td>1.0</td>\n",
       "      <td>335249.0</td>\n",
       "      <td>28.0</td>\n",
       "      <td>335249.0</td>\n",
       "      <td>28.0</td>\n",
       "      <td>1</td>\n",
       "    </tr>\n",
       "    <tr>\n",
       "      <th>2</th>\n",
       "      <td>FIN1000003</td>\n",
       "      <td>800001</td>\n",
       "      <td>4/16/2007</td>\n",
       "      <td>844101.0</td>\n",
       "      <td>M</td>\n",
       "      <td>1/16/1966</td>\n",
       "      <td>M</td>\n",
       "      <td>Business</td>\n",
       "      <td>Class XII</td>\n",
       "      <td>5/27/2006</td>\n",
       "      <td>...</td>\n",
       "      <td>Confirmation</td>\n",
       "      <td>M</td>\n",
       "      <td>3/3/1969</td>\n",
       "      <td>0.0</td>\n",
       "      <td>0.0</td>\n",
       "      <td>357184.0</td>\n",
       "      <td>24.0</td>\n",
       "      <td>357184.0</td>\n",
       "      <td>24.0</td>\n",
       "      <td>0</td>\n",
       "    </tr>\n",
       "    <tr>\n",
       "      <th>3</th>\n",
       "      <td>FIN1000004</td>\n",
       "      <td>814112</td>\n",
       "      <td>4/16/2007</td>\n",
       "      <td>814112.0</td>\n",
       "      <td>M</td>\n",
       "      <td>2/3/1988</td>\n",
       "      <td>S</td>\n",
       "      <td>Salaried</td>\n",
       "      <td>Class XII</td>\n",
       "      <td>8/21/2003</td>\n",
       "      <td>...</td>\n",
       "      <td>Confirmation</td>\n",
       "      <td>F</td>\n",
       "      <td>8/14/1978</td>\n",
       "      <td>0.0</td>\n",
       "      <td>0.0</td>\n",
       "      <td>318356.0</td>\n",
       "      <td>22.0</td>\n",
       "      <td>318356.0</td>\n",
       "      <td>22.0</td>\n",
       "      <td>0</td>\n",
       "    </tr>\n",
       "    <tr>\n",
       "      <th>4</th>\n",
       "      <td>FIN1000005</td>\n",
       "      <td>814112</td>\n",
       "      <td>4/16/2007</td>\n",
       "      <td>815351.0</td>\n",
       "      <td>M</td>\n",
       "      <td>7/4/1985</td>\n",
       "      <td>M</td>\n",
       "      <td>Others</td>\n",
       "      <td>Class XII</td>\n",
       "      <td>5/8/2006</td>\n",
       "      <td>...</td>\n",
       "      <td>Confirmation</td>\n",
       "      <td>M</td>\n",
       "      <td>2/7/1971</td>\n",
       "      <td>2.0</td>\n",
       "      <td>1.0</td>\n",
       "      <td>230402.0</td>\n",
       "      <td>17.0</td>\n",
       "      <td>230402.0</td>\n",
       "      <td>17.0</td>\n",
       "      <td>0</td>\n",
       "    </tr>\n",
       "  </tbody>\n",
       "</table>\n",
       "<p>5 rows × 23 columns</p>\n",
       "</div>"
      ],
      "text/plain": [
       "           ID  Office_PIN Application_Receipt_Date  Applicant_City_PIN  \\\n",
       "0  FIN1000001      842001                4/16/2007            844120.0   \n",
       "1  FIN1000002      842001                4/16/2007            844111.0   \n",
       "2  FIN1000003      800001                4/16/2007            844101.0   \n",
       "3  FIN1000004      814112                4/16/2007            814112.0   \n",
       "4  FIN1000005      814112                4/16/2007            815351.0   \n",
       "\n",
       "  Applicant_Gender Applicant_BirthDate Applicant_Marital_Status  \\\n",
       "0                M          12/19/1971                        M   \n",
       "1                M           2/17/1983                        S   \n",
       "2                M           1/16/1966                        M   \n",
       "3                M            2/3/1988                        S   \n",
       "4                M            7/4/1985                        M   \n",
       "\n",
       "  Applicant_Occupation Applicant_Qualification Manager_DOJ  ...  \\\n",
       "0               Others                Graduate  11/10/2005  ...   \n",
       "1               Others               Class XII  11/10/2005  ...   \n",
       "2             Business               Class XII   5/27/2006  ...   \n",
       "3             Salaried               Class XII   8/21/2003  ...   \n",
       "4               Others               Class XII    5/8/2006  ...   \n",
       "\n",
       "  Manager_Status Manager_Gender  Manager_DoB Manager_Num_Application  \\\n",
       "0   Confirmation              M    2/17/1978                     2.0   \n",
       "1   Confirmation              M    2/17/1978                     2.0   \n",
       "2   Confirmation              M     3/3/1969                     0.0   \n",
       "3   Confirmation              F    8/14/1978                     0.0   \n",
       "4   Confirmation              M     2/7/1971                     2.0   \n",
       "\n",
       "  Manager_Num_Coded Manager_Business  Manager_Num_Products  Manager_Business2  \\\n",
       "0               1.0         335249.0                  28.0           335249.0   \n",
       "1               1.0         335249.0                  28.0           335249.0   \n",
       "2               0.0         357184.0                  24.0           357184.0   \n",
       "3               0.0         318356.0                  22.0           318356.0   \n",
       "4               1.0         230402.0                  17.0           230402.0   \n",
       "\n",
       "   Manager_Num_Products2  Business_Sourced  \n",
       "0                   28.0                 0  \n",
       "1                   28.0                 1  \n",
       "2                   24.0                 0  \n",
       "3                   22.0                 0  \n",
       "4                   17.0                 0  \n",
       "\n",
       "[5 rows x 23 columns]"
      ]
     },
     "execution_count": 3,
     "metadata": {},
     "output_type": "execute_result"
    }
   ],
   "source": [
    "df.head()"
   ]
  },
  {
   "cell_type": "code",
   "execution_count": 4,
   "metadata": {},
   "outputs": [
    {
     "data": {
      "text/plain": [
       "(9527, 23)"
      ]
     },
     "execution_count": 4,
     "metadata": {},
     "output_type": "execute_result"
    }
   ],
   "source": [
    "df.shape"
   ]
  },
  {
   "cell_type": "code",
   "execution_count": 5,
   "metadata": {},
   "outputs": [
    {
     "name": "stdout",
     "output_type": "stream",
     "text": [
      "<class 'pandas.core.frame.DataFrame'>\n",
      "RangeIndex: 9527 entries, 0 to 9526\n",
      "Data columns (total 23 columns):\n",
      " #   Column                       Non-Null Count  Dtype  \n",
      "---  ------                       --------------  -----  \n",
      " 0   ID                           9527 non-null   object \n",
      " 1   Office_PIN                   9527 non-null   int64  \n",
      " 2   Application_Receipt_Date     9527 non-null   object \n",
      " 3   Applicant_City_PIN           9430 non-null   float64\n",
      " 4   Applicant_Gender             9460 non-null   object \n",
      " 5   Applicant_BirthDate          9454 non-null   object \n",
      " 6   Applicant_Marital_Status     9454 non-null   object \n",
      " 7   Applicant_Occupation         8306 non-null   object \n",
      " 8   Applicant_Qualification      9441 non-null   object \n",
      " 9   Manager_DOJ                  8844 non-null   object \n",
      " 10  Manager_Joining_Designation  8844 non-null   object \n",
      " 11  Manager_Current_Designation  8844 non-null   object \n",
      " 12  Manager_Grade                8844 non-null   float64\n",
      " 13  Manager_Status               8844 non-null   object \n",
      " 14  Manager_Gender               8844 non-null   object \n",
      " 15  Manager_DoB                  8844 non-null   object \n",
      " 16  Manager_Num_Application      8844 non-null   float64\n",
      " 17  Manager_Num_Coded            8844 non-null   float64\n",
      " 18  Manager_Business             8844 non-null   float64\n",
      " 19  Manager_Num_Products         8844 non-null   float64\n",
      " 20  Manager_Business2            8844 non-null   float64\n",
      " 21  Manager_Num_Products2        8844 non-null   float64\n",
      " 22  Business_Sourced             9527 non-null   int64  \n",
      "dtypes: float64(8), int64(2), object(13)\n",
      "memory usage: 1.7+ MB\n"
     ]
    }
   ],
   "source": [
    "df.info()"
   ]
  },
  {
   "cell_type": "code",
   "execution_count": 6,
   "metadata": {},
   "outputs": [
    {
     "data": {
      "text/html": [
       "<div>\n",
       "<style scoped>\n",
       "    .dataframe tbody tr th:only-of-type {\n",
       "        vertical-align: middle;\n",
       "    }\n",
       "\n",
       "    .dataframe tbody tr th {\n",
       "        vertical-align: top;\n",
       "    }\n",
       "\n",
       "    .dataframe thead th {\n",
       "        text-align: right;\n",
       "    }\n",
       "</style>\n",
       "<table border=\"1\" class=\"dataframe\">\n",
       "  <thead>\n",
       "    <tr style=\"text-align: right;\">\n",
       "      <th></th>\n",
       "      <th>Office_PIN</th>\n",
       "      <th>Applicant_City_PIN</th>\n",
       "      <th>Manager_Grade</th>\n",
       "      <th>Manager_Num_Application</th>\n",
       "      <th>Manager_Num_Coded</th>\n",
       "      <th>Manager_Business</th>\n",
       "      <th>Manager_Num_Products</th>\n",
       "      <th>Manager_Business2</th>\n",
       "      <th>Manager_Num_Products2</th>\n",
       "      <th>Business_Sourced</th>\n",
       "    </tr>\n",
       "  </thead>\n",
       "  <tbody>\n",
       "    <tr>\n",
       "      <th>count</th>\n",
       "      <td>9527.000000</td>\n",
       "      <td>9430.000000</td>\n",
       "      <td>8844.000000</td>\n",
       "      <td>8844.000000</td>\n",
       "      <td>8844.000000</td>\n",
       "      <td>8.844000e+03</td>\n",
       "      <td>8844.000000</td>\n",
       "      <td>8.844000e+03</td>\n",
       "      <td>8844.000000</td>\n",
       "      <td>9527.00000</td>\n",
       "    </tr>\n",
       "    <tr>\n",
       "      <th>mean</th>\n",
       "      <td>452894.372205</td>\n",
       "      <td>456784.547296</td>\n",
       "      <td>3.264134</td>\n",
       "      <td>1.939733</td>\n",
       "      <td>0.758933</td>\n",
       "      <td>1.843710e+05</td>\n",
       "      <td>7.152307</td>\n",
       "      <td>1.829263e+05</td>\n",
       "      <td>7.131275</td>\n",
       "      <td>0.34292</td>\n",
       "    </tr>\n",
       "    <tr>\n",
       "      <th>std</th>\n",
       "      <td>235690.618252</td>\n",
       "      <td>239291.081207</td>\n",
       "      <td>1.137449</td>\n",
       "      <td>2.150529</td>\n",
       "      <td>1.188644</td>\n",
       "      <td>2.747163e+05</td>\n",
       "      <td>8.439351</td>\n",
       "      <td>2.718021e+05</td>\n",
       "      <td>8.423597</td>\n",
       "      <td>0.47471</td>\n",
       "    </tr>\n",
       "    <tr>\n",
       "      <th>min</th>\n",
       "      <td>110005.000000</td>\n",
       "      <td>110001.000000</td>\n",
       "      <td>1.000000</td>\n",
       "      <td>0.000000</td>\n",
       "      <td>0.000000</td>\n",
       "      <td>-2.652890e+05</td>\n",
       "      <td>0.000000</td>\n",
       "      <td>-2.652890e+05</td>\n",
       "      <td>0.000000</td>\n",
       "      <td>0.00000</td>\n",
       "    </tr>\n",
       "    <tr>\n",
       "      <th>25%</th>\n",
       "      <td>226001.000000</td>\n",
       "      <td>226020.000000</td>\n",
       "      <td>2.000000</td>\n",
       "      <td>0.000000</td>\n",
       "      <td>0.000000</td>\n",
       "      <td>0.000000e+00</td>\n",
       "      <td>0.000000</td>\n",
       "      <td>0.000000e+00</td>\n",
       "      <td>0.000000</td>\n",
       "      <td>0.00000</td>\n",
       "    </tr>\n",
       "    <tr>\n",
       "      <th>50%</th>\n",
       "      <td>416001.000000</td>\n",
       "      <td>422005.500000</td>\n",
       "      <td>3.000000</td>\n",
       "      <td>1.000000</td>\n",
       "      <td>0.000000</td>\n",
       "      <td>1.021780e+05</td>\n",
       "      <td>5.000000</td>\n",
       "      <td>1.017140e+05</td>\n",
       "      <td>5.000000</td>\n",
       "      <td>0.00000</td>\n",
       "    </tr>\n",
       "    <tr>\n",
       "      <th>75%</th>\n",
       "      <td>695014.000000</td>\n",
       "      <td>695017.000000</td>\n",
       "      <td>4.000000</td>\n",
       "      <td>3.000000</td>\n",
       "      <td>1.000000</td>\n",
       "      <td>2.471165e+05</td>\n",
       "      <td>11.000000</td>\n",
       "      <td>2.464612e+05</td>\n",
       "      <td>11.000000</td>\n",
       "      <td>1.00000</td>\n",
       "    </tr>\n",
       "    <tr>\n",
       "      <th>max</th>\n",
       "      <td>851101.000000</td>\n",
       "      <td>995657.000000</td>\n",
       "      <td>10.000000</td>\n",
       "      <td>22.000000</td>\n",
       "      <td>9.000000</td>\n",
       "      <td>3.578265e+06</td>\n",
       "      <td>101.000000</td>\n",
       "      <td>3.578265e+06</td>\n",
       "      <td>101.000000</td>\n",
       "      <td>1.00000</td>\n",
       "    </tr>\n",
       "  </tbody>\n",
       "</table>\n",
       "</div>"
      ],
      "text/plain": [
       "          Office_PIN  Applicant_City_PIN  Manager_Grade  \\\n",
       "count    9527.000000         9430.000000    8844.000000   \n",
       "mean   452894.372205       456784.547296       3.264134   \n",
       "std    235690.618252       239291.081207       1.137449   \n",
       "min    110005.000000       110001.000000       1.000000   \n",
       "25%    226001.000000       226020.000000       2.000000   \n",
       "50%    416001.000000       422005.500000       3.000000   \n",
       "75%    695014.000000       695017.000000       4.000000   \n",
       "max    851101.000000       995657.000000      10.000000   \n",
       "\n",
       "       Manager_Num_Application  Manager_Num_Coded  Manager_Business  \\\n",
       "count              8844.000000        8844.000000      8.844000e+03   \n",
       "mean                  1.939733           0.758933      1.843710e+05   \n",
       "std                   2.150529           1.188644      2.747163e+05   \n",
       "min                   0.000000           0.000000     -2.652890e+05   \n",
       "25%                   0.000000           0.000000      0.000000e+00   \n",
       "50%                   1.000000           0.000000      1.021780e+05   \n",
       "75%                   3.000000           1.000000      2.471165e+05   \n",
       "max                  22.000000           9.000000      3.578265e+06   \n",
       "\n",
       "       Manager_Num_Products  Manager_Business2  Manager_Num_Products2  \\\n",
       "count           8844.000000       8.844000e+03            8844.000000   \n",
       "mean               7.152307       1.829263e+05               7.131275   \n",
       "std                8.439351       2.718021e+05               8.423597   \n",
       "min                0.000000      -2.652890e+05               0.000000   \n",
       "25%                0.000000       0.000000e+00               0.000000   \n",
       "50%                5.000000       1.017140e+05               5.000000   \n",
       "75%               11.000000       2.464612e+05              11.000000   \n",
       "max              101.000000       3.578265e+06             101.000000   \n",
       "\n",
       "       Business_Sourced  \n",
       "count        9527.00000  \n",
       "mean            0.34292  \n",
       "std             0.47471  \n",
       "min             0.00000  \n",
       "25%             0.00000  \n",
       "50%             0.00000  \n",
       "75%             1.00000  \n",
       "max             1.00000  "
      ]
     },
     "execution_count": 6,
     "metadata": {},
     "output_type": "execute_result"
    }
   ],
   "source": [
    "df.describe()"
   ]
  },
  {
   "cell_type": "code",
   "execution_count": 7,
   "metadata": {},
   "outputs": [
    {
     "data": {
      "text/plain": [
       "0    6260\n",
       "1    3267\n",
       "Name: Business_Sourced, dtype: int64"
      ]
     },
     "execution_count": 7,
     "metadata": {},
     "output_type": "execute_result"
    }
   ],
   "source": [
    "df[\"Business_Sourced\"].value_counts()"
   ]
  },
  {
   "cell_type": "code",
   "execution_count": 9,
   "metadata": {},
   "outputs": [
    {
     "data": {
      "text/plain": [
       "<matplotlib.axes._subplots.AxesSubplot at 0x1db81224b08>"
      ]
     },
     "execution_count": 9,
     "metadata": {},
     "output_type": "execute_result"
    },
    {
     "data": {
      "image/png": "[encoded data removed]",
      "text/plain": [
       "<Figure size 432x288 with 1 Axes>"
      ]
     },
     "metadata": {
      "needs_background": "light"
     },
     "output_type": "display_data"
    }
   ],
   "source": [
    "sns.countplot(x=\"Business_Sourced\",data=df)"
   ]
  },
  {
   "cell_type": "code",
   "execution_count": 8,
   "metadata": {},
   "outputs": [
    {
     "data": {
      "text/plain": [
       "ID                                0\n",
       "Office_PIN                        0\n",
       "Application_Receipt_Date          0\n",
       "Applicant_City_PIN               97\n",
       "Applicant_Gender                 67\n",
       "Applicant_BirthDate              73\n",
       "Applicant_Marital_Status         73\n",
       "Applicant_Occupation           1221\n",
       "Applicant_Qualification          86\n",
       "Manager_DOJ                     683\n",
       "Manager_Joining_Designation     683\n",
       "Manager_Current_Designation     683\n",
       "Manager_Grade                   683\n",
       "Manager_Status                  683\n",
       "Manager_Gender                  683\n",
       "Manager_DoB                     683\n",
       "Manager_Num_Application         683\n",
       "Manager_Num_Coded               683\n",
       "Manager_Business                683\n",
       "Manager_Num_Products            683\n",
       "Manager_Business2               683\n",
       "Manager_Num_Products2           683\n",
       "Business_Sourced                  0\n",
       "dtype: int64"
      ]
     },
     "execution_count": 8,
     "metadata": {},
     "output_type": "execute_result"
    }
   ],
   "source": [
    "df.isnull().suma()"
   ]
  },
  {
   "cell_type": "code",
   "execution_count": 10,
   "metadata": {},
   "outputs": [
    {
     "name": "stdout",
     "output_type": "stream",
     "text": [
      "ID - 9527\n",
      "Office_PIN - 98\n",
      "Application_Receipt_Date - 357\n",
      "Applicant_City_PIN - 2979\n",
      "Applicant_Gender - 2\n",
      "Applicant_BirthDate - 5836\n",
      "Applicant_Marital_Status - 4\n",
      "Applicant_Occupation - 5\n",
      "Applicant_Qualification - 11\n",
      "Manager_DOJ - 646\n",
      "Manager_Joining_Designation - 8\n",
      "Manager_Current_Designation - 5\n",
      "Manager_Grade - 10\n",
      "Manager_Status - 2\n",
      "Manager_Gender - 2\n",
      "Manager_DoB - 1245\n",
      "Manager_Num_Application - 17\n",
      "Manager_Num_Coded - 10\n",
      "Manager_Business - 3747\n",
      "Manager_Num_Products - 57\n",
      "Manager_Business2 - 3743\n",
      "Manager_Num_Products2 - 57\n",
      "Business_Sourced - 2\n"
     ]
    }
   ],
   "source": [
    "for i in df.columns:\n",
    "      print(i,\"-\",df[i].nunique())"
   ]
  },
  {
   "cell_type": "code",
   "execution_count": 11,
   "metadata": {},
   "outputs": [],
   "source": [
    "df.drop([\"ID\"],axis=1,inplace=True)"
   ]
  },
  {
   "cell_type": "code",
   "execution_count": 12,
   "metadata": {},
   "outputs": [
    {
     "data": {
      "text/plain": [
       "M    6177\n",
       "S    3267\n",
       "W       6\n",
       "D       4\n",
       "Name: Applicant_Marital_Status, dtype: int64"
      ]
     },
     "execution_count": 12,
     "metadata": {},
     "output_type": "execute_result"
    }
   ],
   "source": [
    "df[\"Applicant_Marital_Status\"].value_counts()"
   ]
  },
  {
   "cell_type": "code",
   "execution_count": 13,
   "metadata": {},
   "outputs": [
    {
     "data": {
      "text/plain": [
       "<matplotlib.axes._subplots.AxesSubplot at 0x1db8412ed88>"
      ]
     },
     "execution_count": 13,
     "metadata": {},
     "output_type": "execute_result"
    },
    {
     "data": {
      "image/png": "[encoded data removed]",
      "text/plain": [
       "<Figure size 432x288 with 1 Axes>"
      ]
     },
     "metadata": {
      "needs_background": "light"
     },
     "output_type": "display_data"
    }
   ],
   "source": [
    "sns.countplot(x=\"Applicant_Marital_Status\",data=df,hue=\"Business_Sourced\")"
   ]
  },
  {
   "cell_type": "code",
   "execution_count": 36,
   "metadata": {},
   "outputs": [],
   "source": [
    "df.drop_duplicates(inplace=True)"
   ]
  },
  {
   "cell_type": "code",
   "execution_count": 16,
   "metadata": {},
   "outputs": [
    {
     "data": {
      "text/plain": [
       "(10, 0)"
      ]
     },
     "execution_count": 16,
     "metadata": {},
     "output_type": "execute_result"
    },
    {
     "data": {
      "image/png": "[encoded data removed]",
      "text/plain": [
       "<Figure size 864x504 with 2 Axes>"
      ]
     },
     "metadata": {
      "needs_background": "light"
     },
     "output_type": "display_data"
    }
   ],
   "source": [
    "plt.figure(figsize=(12,7))\n",
    "sns.heatmap(df.corr(),annot=True,cmap='viridis')\n",
    "plt.ylim(10, 0)"
   ]
  },
  {
   "cell_type": "code",
   "execution_count": 17,
   "metadata": {},
   "outputs": [],
   "source": [
    "#There are multiple columns which are highly correlated, we will remove one among them\n",
    "\n",
    "df.drop([\"Manager_Business2\",\"Manager_Num_Products\",\"Manager_Num_Coded\",\"Manager_Num_Products\"],axis=1,inplace=True)"
   ]
  },
  {
   "cell_type": "code",
   "execution_count": 19,
   "metadata": {},
   "outputs": [],
   "source": [
    "df.drop(\"Manager_Num_Products2\",axis=1,inplace=True)"
   ]
  },
  {
   "cell_type": "code",
   "execution_count": 20,
   "metadata": {},
   "outputs": [
    {
     "data": {
      "text/plain": [
       "(10, 0)"
      ]
     },
     "execution_count": 20,
     "metadata": {},
     "output_type": "execute_result"
    },
    {
     "data": {
      "image/png": "[encoded data removed]",
      "text/plain": [
       "<Figure size 864x504 with 2 Axes>"
      ]
     },
     "metadata": {
      "needs_background": "light"
     },
     "output_type": "display_data"
    }
   ],
   "source": [
    "plt.figure(figsize=(12,7))\n",
    "sns.heatmap(df.corr(),annot=True,cmap='viridis')\n",
    "plt.ylim(10, 0)"
   ]
  },
  {
   "cell_type": "code",
   "execution_count": 21,
   "metadata": {},
   "outputs": [],
   "source": [
    "#setting null value pins to set office pins\n",
    "df.loc[df['Applicant_City_PIN'].isnull(),'Applicant_City_PIN'] = df['Office_PIN']"
   ]
  },
  {
   "cell_type": "code",
   "execution_count": 22,
   "metadata": {},
   "outputs": [],
   "source": [
    "df.drop(\"Office_PIN\",axis=1,inplace=True)"
   ]
  },
  {
   "cell_type": "code",
   "execution_count": 23,
   "metadata": {},
   "outputs": [
    {
     "data": {
      "text/plain": [
       "Index(['Application_Receipt_Date', 'Applicant_City_PIN', 'Applicant_Gender',\n",
       "       'Applicant_BirthDate', 'Applicant_Marital_Status',\n",
       "       'Applicant_Occupation', 'Applicant_Qualification', 'Manager_DOJ',\n",
       "       'Manager_Joining_Designation', 'Manager_Current_Designation',\n",
       "       'Manager_Grade', 'Manager_Status', 'Manager_Gender', 'Manager_DoB',\n",
       "       'Manager_Num_Application', 'Manager_Business', 'Business_Sourced'],\n",
       "      dtype='object')"
      ]
     },
     "execution_count": 23,
     "metadata": {},
     "output_type": "execute_result"
    }
   ],
   "source": [
    "df.columns"
   ]
  },
  {
   "cell_type": "code",
   "execution_count": 24,
   "metadata": {},
   "outputs": [
    {
     "data": {
      "text/plain": [
       "Index(['Application_Receipt_Date', 'Applicant_City_PIN', 'Applicant_Gender',\n",
       "       'Applicant_BirthDate', 'Applicant_Marital_Status',\n",
       "       'Applicant_Occupation', 'Applicant_Qualification', 'Manager_DOJ',\n",
       "       'Manager_Joining_Designation', 'Manager_Current_Designation',\n",
       "       'Manager_Grade', 'Manager_Status', 'Manager_Gender', 'Manager_DoB',\n",
       "       'Manager_Num_Application', 'Manager_Business', 'Business_Sourced'],\n",
       "      dtype='object')"
      ]
     },
     "execution_count": 24,
     "metadata": {},
     "output_type": "execute_result"
    }
   ],
   "source": [
    "df.columns"
   ]
  },
  {
   "cell_type": "code",
   "execution_count": 25,
   "metadata": {},
   "outputs": [
    {
     "data": {
      "text/plain": [
       "array(['Graduate', 'Class XII', 'Class X',\n",
       "       'Masters of Business Administration', nan,\n",
       "       'Associate/Fellow of Institute of Company Secretories of India',\n",
       "       'Associate / Fellow of Institute of Chartered Accountans of India',\n",
       "       'Others', 'Associate/Fellow of Insurance Institute of India',\n",
       "       'Associate/Fellow of Acturial Society of India',\n",
       "       'Certified Associateship of Indian Institute of Bankers',\n",
       "       'Professional Qualification in Marketing'], dtype=object)"
      ]
     },
     "execution_count": 25,
     "metadata": {},
     "output_type": "execute_result"
    }
   ],
   "source": [
    "df[\"Applicant_Qualification\"].unique()"
   ]
  },
  {
   "cell_type": "code",
   "execution_count": 26,
   "metadata": {},
   "outputs": [
    {
     "data": {
      "text/plain": [
       "86"
      ]
     },
     "execution_count": 26,
     "metadata": {},
     "output_type": "execute_result"
    }
   ],
   "source": [
    "df[\"Applicant_Qualification\"].isnull().sum()"
   ]
  },
  {
   "cell_type": "code",
   "execution_count": 27,
   "metadata": {},
   "outputs": [
    {
     "data": {
      "text/plain": [
       "(array([ 0,  1,  2,  3,  4,  5,  6,  7,  8,  9, 10]),\n",
       " <a list of 11 Text xticklabel objects>)"
      ]
     },
     "execution_count": 27,
     "metadata": {},
     "output_type": "execute_result"
    },
    {
     "data": {
      "image/png": "[encoded data removed]",
      "text/plain": [
       "<Figure size 720x504 with 1 Axes>"
      ]
     },
     "metadata": {
      "needs_background": "light"
     },
     "output_type": "display_data"
    }
   ],
   "source": [
    "plt.figure(figsize=(10,7))\n",
    "sns.countplot(x=\"Applicant_Qualification\",data=df,hue=\"Business_Sourced\")\n",
    "plt.xticks(rotation='vertical')"
   ]
  },
  {
   "cell_type": "code",
   "execution_count": 28,
   "metadata": {},
   "outputs": [],
   "source": [
    "#We will add all the qualifications less than 10 to others\n",
    "df['Applicant_Qualification']=np.where(df['Applicant_Qualification'] == \"Associate / Fellow of Institute of Chartered Accountans of India\", \"Others\", df['Applicant_Qualification'])\n",
    "df['Applicant_Qualification']=np.where(df['Applicant_Qualification'] == \"Associate/Fellow of Acturial Society of India\", \"Others\", df['Applicant_Qualification'])\n",
    "df['Applicant_Qualification']=np.where(df['Applicant_Qualification'] == \"Associate/Fellow of Insurance Institure of India \", \"Others\", df['Applicant_Qualification'])\n",
    "df['Applicant_Qualification']=np.where(df['Applicant_Qualification'] == \"Professional Qualification in Marketing\", \"Others\", df['Applicant_Qualification'])\n",
    "df['Applicant_Qualification']=np.where(df['Applicant_Qualification'] == \"Associate/Fellow of Institute of Company Secretories of India\", \"Others\", df['Applicant_Qualification'])\n",
    "df['Applicant_Qualification']=np.where(df['Applicant_Qualification'] == \"Certified Associateship of Indian Institute of Bankers\", \"Others\", df['Applicant_Qualification'])\n",
    "df['Applicant_Qualification']=np.where(df['Applicant_Qualification'] == \"Associate/Fellow of Insurance Institute of India\", \"Others\", df['Applicant_Qualification'])"
   ]
  },
  {
   "cell_type": "code",
   "execution_count": 29,
   "metadata": {},
   "outputs": [],
   "source": [
    "df[\"Applicant_Qualification\"].fillna(\"NULL\",inplace=True)"
   ]
  },
  {
   "cell_type": "code",
   "execution_count": 30,
   "metadata": {},
   "outputs": [],
   "source": [
    "df['Applicant_Qualification']=np.where(df['Applicant_Qualification'] == \"NULL\", \"Others\", df['Applicant_Qualification'])"
   ]
  },
  {
   "cell_type": "code",
   "execution_count": 31,
   "metadata": {},
   "outputs": [
    {
     "data": {
      "text/plain": [
       "Class XII                             5806\n",
       "Graduate                              3196\n",
       "Others                                 226\n",
       "Class X                                225\n",
       "Masters of Business Administration      74\n",
       "Name: Applicant_Qualification, dtype: int64"
      ]
     },
     "execution_count": 31,
     "metadata": {},
     "output_type": "execute_result"
    }
   ],
   "source": [
    "df[\"Applicant_Qualification\"].value_counts()"
   ]
  },
  {
   "cell_type": "code",
   "execution_count": 32,
   "metadata": {},
   "outputs": [
    {
     "data": {
      "text/plain": [
       "Applicant_Gender  Business_Sourced\n",
       "F                 0                   1402\n",
       "                  1                    879\n",
       "M                 0                   4791\n",
       "                  1                   2388\n",
       "Name: Business_Sourced, dtype: int64"
      ]
     },
     "execution_count": 32,
     "metadata": {},
     "output_type": "execute_result"
    }
   ],
   "source": [
    "df.groupby([\"Applicant_Gender\",\"Business_Sourced\"])[\"Business_Sourced\"].count()"
   ]
  },
  {
   "cell_type": "code",
   "execution_count": 33,
   "metadata": {},
   "outputs": [],
   "source": [
    "df[\"Applicant_Gender\"].fillna(\"others\",inplace=True)"
   ]
  },
  {
   "cell_type": "code",
   "execution_count": 34,
   "metadata": {},
   "outputs": [],
   "source": [
    "df['Application_Receipt_Date'] = pd.to_datetime(df['Application_Receipt_Date'])\n",
    "df['Applicant_BirthDate'] = pd.to_datetime(df['Applicant_BirthDate'])"
   ]
  },
  {
   "cell_type": "code",
   "execution_count": 35,
   "metadata": {},
   "outputs": [
    {
     "name": "stdout",
     "output_type": "stream",
     "text": [
      "1930-02-28 00:00:00\n",
      "1992-12-03 00:00:00\n",
      "2007-04-16 00:00:00\n",
      "2008-07-01 00:00:00\n"
     ]
    }
   ],
   "source": [
    "print(df['Applicant_BirthDate'].min())\n",
    "print(df['Applicant_BirthDate'].max())\n",
    "print(df['Application_Receipt_Date'].min())\n",
    "print(df['Application_Receipt_Date'].max())"
   ]
  },
  {
   "cell_type": "code",
   "execution_count": 37,
   "metadata": {},
   "outputs": [],
   "source": [
    "from datetime import datetime"
   ]
  },
  {
   "cell_type": "code",
   "execution_count": 38,
   "metadata": {},
   "outputs": [],
   "source": [
    "now = pd.to_datetime('now')\n",
    "df[\"Applicant_age\"]=(now - df['Applicant_BirthDate']).astype('<m8[Y]')"
   ]
  },
  {
   "cell_type": "code",
   "execution_count": 39,
   "metadata": {},
   "outputs": [
    {
     "data": {
      "text/plain": [
       "37.0    541\n",
       "38.0    519\n",
       "39.0    493\n",
       "40.0    483\n",
       "36.0    450\n",
       "       ... \n",
       "85.0      3\n",
       "86.0      2\n",
       "88.0      1\n",
       "27.0      1\n",
       "90.0      1\n",
       "Name: Applicant_age, Length: 61, dtype: int64"
      ]
     },
     "execution_count": 39,
     "metadata": {},
     "output_type": "execute_result"
    }
   ],
   "source": [
    "df[\"Applicant_age\"].value_counts()"
   ]
  },
  {
   "cell_type": "code",
   "execution_count": 40,
   "metadata": {},
   "outputs": [
    {
     "data": {
      "text/plain": [
       "<matplotlib.axes._subplots.AxesSubplot at 0x1db8563adc8>"
      ]
     },
     "execution_count": 40,
     "metadata": {},
     "output_type": "execute_result"
    },
    {
     "data": {
      "image/png": "[encoded data removed]",
      "text/plain": [
       "<Figure size 720x504 with 1 Axes>"
      ]
     },
     "metadata": {
      "needs_background": "light"
     },
     "output_type": "display_data"
    }
   ],
   "source": [
    "plt.figure(figsize=(10,7))\n",
    "sns.distplot(df['Applicant_age'],bins=25)"
   ]
  },
  {
   "cell_type": "code",
   "execution_count": 41,
   "metadata": {},
   "outputs": [],
   "source": [
    "df[\"Applicant_age\"] = df[\"Applicant_age\"].replace(np.NaN, df[\"Applicant_age\"].mean())"
   ]
  },
  {
   "cell_type": "code",
   "execution_count": 52,
   "metadata": {},
   "outputs": [],
   "source": [
    "df.drop(\"Applicant_BirthDate\",axis=1,inplace=True)"
   ]
  },
  {
   "cell_type": "code",
   "execution_count": 42,
   "metadata": {},
   "outputs": [
    {
     "data": {
      "text/plain": [
       "<matplotlib.axes._subplots.AxesSubplot at 0x1db857da648>"
      ]
     },
     "execution_count": 42,
     "metadata": {},
     "output_type": "execute_result"
    },
    {
     "data": {
      "image/png": "[encoded data removed]",
      "text/plain": [
       "<Figure size 432x288 with 1 Axes>"
      ]
     },
     "metadata": {
      "needs_background": "light"
     },
     "output_type": "display_data"
    }
   ],
   "source": [
    "target_0 = df.loc[df['Business_Sourced'] == 0]\n",
    "target_1 = df.loc[df['Business_Sourced'] == 1]\n",
    "\n",
    "\n",
    "sns.distplot(target_0[['Applicant_age']], hist=False, rug=True)\n",
    "sns.distplot(target_1[['Applicant_age']], hist=False, rug=True)\n"
   ]
  },
  {
   "cell_type": "code",
   "execution_count": 43,
   "metadata": {},
   "outputs": [
    {
     "data": {
      "text/plain": [
       "Salaried         3787\n",
       "Business         2303\n",
       "Others           1966\n",
       "Self Employed     149\n",
       "Student           101\n",
       "Name: Applicant_Occupation, dtype: int64"
      ]
     },
     "execution_count": 43,
     "metadata": {},
     "output_type": "execute_result"
    }
   ],
   "source": [
    "df[\"Applicant_Occupation\"].value_counts()"
   ]
  },
  {
   "cell_type": "code",
   "execution_count": 44,
   "metadata": {},
   "outputs": [
    {
     "data": {
      "text/plain": [
       "1221"
      ]
     },
     "execution_count": 44,
     "metadata": {},
     "output_type": "execute_result"
    }
   ],
   "source": [
    "df[\"Applicant_Occupation\"].isnull().sum()"
   ]
  },
  {
   "cell_type": "code",
   "execution_count": 45,
   "metadata": {},
   "outputs": [],
   "source": [
    "df['Applicant_Occupation'].fillna(\"Others\",inplace=True)"
   ]
  },
  {
   "cell_type": "code",
   "execution_count": 46,
   "metadata": {},
   "outputs": [
    {
     "data": {
      "text/plain": [
       "M    6177\n",
       "S    3267\n",
       "W       6\n",
       "D       4\n",
       "Name: Applicant_Marital_Status, dtype: int64"
      ]
     },
     "execution_count": 46,
     "metadata": {},
     "output_type": "execute_result"
    }
   ],
   "source": [
    "df[\"Applicant_Marital_Status\"].value_counts()"
   ]
  },
  {
   "cell_type": "code",
   "execution_count": 14,
   "metadata": {},
   "outputs": [
    {
     "data": {
      "text/html": [
       "<div>\n",
       "<style scoped>\n",
       "    .dataframe tbody tr th:only-of-type {\n",
       "        vertical-align: middle;\n",
       "    }\n",
       "\n",
       "    .dataframe tbody tr th {\n",
       "        vertical-align: top;\n",
       "    }\n",
       "\n",
       "    .dataframe thead th {\n",
       "        text-align: right;\n",
       "    }\n",
       "</style>\n",
       "<table border=\"1\" class=\"dataframe\">\n",
       "  <thead>\n",
       "    <tr style=\"text-align: right;\">\n",
       "      <th></th>\n",
       "      <th>Applicant_Marital_Status</th>\n",
       "      <th>Business_Sourced</th>\n",
       "    </tr>\n",
       "  </thead>\n",
       "  <tbody>\n",
       "    <tr>\n",
       "      <th>382</th>\n",
       "      <td>W</td>\n",
       "      <td>0</td>\n",
       "    </tr>\n",
       "    <tr>\n",
       "      <th>2365</th>\n",
       "      <td>W</td>\n",
       "      <td>1</td>\n",
       "    </tr>\n",
       "    <tr>\n",
       "      <th>5303</th>\n",
       "      <td>D</td>\n",
       "      <td>0</td>\n",
       "    </tr>\n",
       "    <tr>\n",
       "      <th>5324</th>\n",
       "      <td>D</td>\n",
       "      <td>0</td>\n",
       "    </tr>\n",
       "    <tr>\n",
       "      <th>6340</th>\n",
       "      <td>D</td>\n",
       "      <td>1</td>\n",
       "    </tr>\n",
       "    <tr>\n",
       "      <th>6499</th>\n",
       "      <td>W</td>\n",
       "      <td>1</td>\n",
       "    </tr>\n",
       "    <tr>\n",
       "      <th>7634</th>\n",
       "      <td>W</td>\n",
       "      <td>1</td>\n",
       "    </tr>\n",
       "    <tr>\n",
       "      <th>9054</th>\n",
       "      <td>D</td>\n",
       "      <td>1</td>\n",
       "    </tr>\n",
       "    <tr>\n",
       "      <th>9107</th>\n",
       "      <td>W</td>\n",
       "      <td>0</td>\n",
       "    </tr>\n",
       "    <tr>\n",
       "      <th>9114</th>\n",
       "      <td>W</td>\n",
       "      <td>0</td>\n",
       "    </tr>\n",
       "  </tbody>\n",
       "</table>\n",
       "</div>"
      ],
      "text/plain": [
       "     Applicant_Marital_Status  Business_Sourced\n",
       "382                         W                 0\n",
       "2365                        W                 1\n",
       "5303                        D                 0\n",
       "5324                        D                 0\n",
       "6340                        D                 1\n",
       "6499                        W                 1\n",
       "7634                        W                 1\n",
       "9054                        D                 1\n",
       "9107                        W                 0\n",
       "9114                        W                 0"
      ]
     },
     "execution_count": 14,
     "metadata": {},
     "output_type": "execute_result"
    }
   ],
   "source": [
    "df[(df[\"Applicant_Marital_Status\"] == 'W') | (df[\"Applicant_Marital_Status\"] == 'D')][[\"Applicant_Marital_Status\",\"Business_Sourced\"]]"
   ]
  },
  {
   "cell_type": "code",
   "execution_count": 15,
   "metadata": {},
   "outputs": [
    {
     "data": {
      "text/plain": [
       "array(['M', 'S', nan, 'W', 'D'], dtype=object)"
      ]
     },
     "execution_count": 15,
     "metadata": {},
     "output_type": "execute_result"
    }
   ],
   "source": [
    "df[\"Applicant_Marital_Status\"].unique()"
   ]
  },
  {
   "cell_type": "code",
   "execution_count": 47,
   "metadata": {},
   "outputs": [
    {
     "data": {
      "text/plain": [
       "<matplotlib.axes._subplots.AxesSubplot at 0x1db8592c688>"
      ]
     },
     "execution_count": 47,
     "metadata": {},
     "output_type": "execute_result"
    },
    {
     "data": {
      "image/png": "[encoded data removed]",
      "text/plain": [
       "<Figure size 432x288 with 1 Axes>"
      ]
     },
     "metadata": {
      "needs_background": "light"
     },
     "output_type": "display_data"
    }
   ],
   "source": [
    "sns.countplot(x=\"Applicant_Marital_Status\",hue=\"Business_Sourced\",data=df[df[\"Applicant_Marital_Status\"]=='D'])"
   ]
  },
  {
   "cell_type": "code",
   "execution_count": 48,
   "metadata": {},
   "outputs": [],
   "source": [
    "df['Applicant_Marital_Status'] = df['Applicant_Marital_Status'].map({'D': 'Others', 'W': \"Others\",'M':\"Married\",'S':'Single'})"
   ]
  },
  {
   "cell_type": "code",
   "execution_count": 49,
   "metadata": {},
   "outputs": [],
   "source": [
    "df['Applicant_Marital_Status'].fillna(\"Others\",inplace=True)"
   ]
  },
  {
   "cell_type": "code",
   "execution_count": 50,
   "metadata": {},
   "outputs": [
    {
     "data": {
      "text/plain": [
       "Married    6177\n",
       "Single     3267\n",
       "Others       83\n",
       "Name: Applicant_Marital_Status, dtype: int64"
      ]
     },
     "execution_count": 50,
     "metadata": {},
     "output_type": "execute_result"
    }
   ],
   "source": [
    "df[\"Applicant_Marital_Status\"].value_counts()"
   ]
  },
  {
   "cell_type": "code",
   "execution_count": 53,
   "metadata": {},
   "outputs": [
    {
     "data": {
      "text/plain": [
       "Index(['Application_Receipt_Date', 'Applicant_City_PIN', 'Applicant_Gender',\n",
       "       'Applicant_Marital_Status', 'Applicant_Occupation',\n",
       "       'Applicant_Qualification', 'Manager_DOJ', 'Manager_Joining_Designation',\n",
       "       'Manager_Current_Designation', 'Manager_Grade', 'Manager_Status',\n",
       "       'Manager_Gender', 'Manager_DoB', 'Manager_Num_Application',\n",
       "       'Manager_Business', 'Business_Sourced', 'Applicant_age'],\n",
       "      dtype='object')"
      ]
     },
     "execution_count": 53,
     "metadata": {},
     "output_type": "execute_result"
    }
   ],
   "source": [
    "df.columns"
   ]
  },
  {
   "cell_type": "code",
   "execution_count": 54,
   "metadata": {},
   "outputs": [
    {
     "data": {
      "text/plain": [
       "Index(['Applicant_Gender', 'Applicant_Marital_Status', 'Applicant_Occupation',\n",
       "       'Applicant_Qualification', 'Manager_DOJ', 'Manager_Joining_Designation',\n",
       "       'Manager_Current_Designation', 'Manager_Status', 'Manager_Gender',\n",
       "       'Manager_DoB'],\n",
       "      dtype='object')"
      ]
     },
     "execution_count": 54,
     "metadata": {},
     "output_type": "execute_result"
    }
   ],
   "source": [
    "df.select_dtypes(['object']).columns"
   ]
  },
  {
   "cell_type": "code",
   "execution_count": 55,
   "metadata": {},
   "outputs": [
    {
     "data": {
      "text/plain": [
       "Application_Receipt_Date       0.000000\n",
       "Applicant_City_PIN             0.000000\n",
       "Applicant_Gender               0.000000\n",
       "Applicant_Marital_Status       0.000000\n",
       "Applicant_Occupation           0.000000\n",
       "Applicant_Qualification        0.000000\n",
       "Manager_DOJ                    7.169098\n",
       "Manager_Joining_Designation    7.169098\n",
       "Manager_Current_Designation    7.169098\n",
       "Manager_Grade                  7.169098\n",
       "Manager_Status                 7.169098\n",
       "Manager_Gender                 7.169098\n",
       "Manager_DoB                    7.169098\n",
       "Manager_Num_Application        7.169098\n",
       "Manager_Business               7.169098\n",
       "Business_Sourced               0.000000\n",
       "Applicant_age                  0.000000\n",
       "dtype: float64"
      ]
     },
     "execution_count": 55,
     "metadata": {},
     "output_type": "execute_result"
    }
   ],
   "source": [
    "100* df.isnull().sum()/len(df)"
   ]
  },
  {
   "cell_type": "code",
   "execution_count": 56,
   "metadata": {},
   "outputs": [
    {
     "data": {
      "text/plain": [
       "<matplotlib.axes._subplots.AxesSubplot at 0x1db86100208>"
      ]
     },
     "execution_count": 56,
     "metadata": {},
     "output_type": "execute_result"
    },
    {
     "data": {
      "image/png": "[encoded data removed]",
      "text/plain": [
       "<Figure size 432x288 with 1 Axes>"
      ]
     },
     "metadata": {
      "needs_background": "light"
     },
     "output_type": "display_data"
    }
   ],
   "source": [
    "sns.barplot(x=\"Application_Receipt_Date\",y=\"Business_Sourced\",data=df,estimator=np.sum)"
   ]
  },
  {
   "cell_type": "code",
   "execution_count": 57,
   "metadata": {},
   "outputs": [
    {
     "data": {
      "text/plain": [
       "<matplotlib.axes._subplots.AxesSubplot at 0x1db8815cf48>"
      ]
     },
     "execution_count": 57,
     "metadata": {},
     "output_type": "execute_result"
    },
    {
     "data": {
      "image/png": "[encoded data removed]",
      "text/plain": [
       "<Figure size 432x288 with 1 Axes>"
      ]
     },
     "metadata": {
      "needs_background": "light"
     },
     "output_type": "display_data"
    }
   ],
   "source": [
    "sns.barplot(x=\"Applicant_Gender\",y=\"Business_Sourced\",data=df,hue=\"Business_Sourced\",estimator=np.count_nonzero)"
   ]
  },
  {
   "cell_type": "code",
   "execution_count": 58,
   "metadata": {},
   "outputs": [
    {
     "data": {
      "text/plain": [
       "Manager_Current_Designation  Business_Sourced\n",
       "Level 1                      0                   1702\n",
       "                             1                    777\n",
       "Level 2                      0                   2114\n",
       "                             1                   1094\n",
       "Level 3                      0                   1335\n",
       "                             1                    698\n",
       "Level 4                      0                    604\n",
       "                             1                    427\n",
       "Level 5                      0                     58\n",
       "                             1                     35\n",
       "Name: Business_Sourced, dtype: int64"
      ]
     },
     "execution_count": 58,
     "metadata": {},
     "output_type": "execute_result"
    }
   ],
   "source": [
    "df.groupby([\"Manager_Current_Designation\",\"Business_Sourced\"])[\"Business_Sourced\"].count()"
   ]
  },
  {
   "cell_type": "code",
   "execution_count": 59,
   "metadata": {},
   "outputs": [],
   "source": [
    "from scipy import stats"
   ]
  },
  {
   "cell_type": "code",
   "execution_count": 60,
   "metadata": {},
   "outputs": [
    {
     "name": "stdout",
     "output_type": "stream",
     "text": [
      "Joining_Designation has an effect on Current_Designation  as the p_value (0.0) < 0.05\n"
     ]
    },
    {
     "data": {
      "text/html": [
       "<div>\n",
       "<style scoped>\n",
       "    .dataframe tbody tr th:only-of-type {\n",
       "        vertical-align: middle;\n",
       "    }\n",
       "\n",
       "    .dataframe tbody tr th {\n",
       "        vertical-align: top;\n",
       "    }\n",
       "\n",
       "    .dataframe thead th {\n",
       "        text-align: right;\n",
       "    }\n",
       "</style>\n",
       "<table border=\"1\" class=\"dataframe\">\n",
       "  <thead>\n",
       "    <tr style=\"text-align: right;\">\n",
       "      <th>Manager_Current_Designation</th>\n",
       "      <th>Level 1</th>\n",
       "      <th>Level 2</th>\n",
       "      <th>Level 3</th>\n",
       "      <th>Level 4</th>\n",
       "      <th>Level 5</th>\n",
       "    </tr>\n",
       "    <tr>\n",
       "      <th>Manager_Joining_Designation</th>\n",
       "      <th></th>\n",
       "      <th></th>\n",
       "      <th></th>\n",
       "      <th></th>\n",
       "      <th></th>\n",
       "    </tr>\n",
       "  </thead>\n",
       "  <tbody>\n",
       "    <tr>\n",
       "      <th>Level 1</th>\n",
       "      <td>2444</td>\n",
       "      <td>1247</td>\n",
       "      <td>611</td>\n",
       "      <td>302</td>\n",
       "      <td>28</td>\n",
       "    </tr>\n",
       "    <tr>\n",
       "      <th>Level 2</th>\n",
       "      <td>0</td>\n",
       "      <td>1960</td>\n",
       "      <td>324</td>\n",
       "      <td>455</td>\n",
       "      <td>48</td>\n",
       "    </tr>\n",
       "    <tr>\n",
       "      <th>Level 3</th>\n",
       "      <td>0</td>\n",
       "      <td>0</td>\n",
       "      <td>1097</td>\n",
       "      <td>49</td>\n",
       "      <td>0</td>\n",
       "    </tr>\n",
       "    <tr>\n",
       "      <th>Level 4</th>\n",
       "      <td>0</td>\n",
       "      <td>0</td>\n",
       "      <td>0</td>\n",
       "      <td>200</td>\n",
       "      <td>0</td>\n",
       "    </tr>\n",
       "    <tr>\n",
       "      <th>Level 5</th>\n",
       "      <td>0</td>\n",
       "      <td>0</td>\n",
       "      <td>0</td>\n",
       "      <td>0</td>\n",
       "      <td>1</td>\n",
       "    </tr>\n",
       "    <tr>\n",
       "      <th>Level 6</th>\n",
       "      <td>0</td>\n",
       "      <td>0</td>\n",
       "      <td>0</td>\n",
       "      <td>4</td>\n",
       "      <td>14</td>\n",
       "    </tr>\n",
       "    <tr>\n",
       "      <th>Level 7</th>\n",
       "      <td>0</td>\n",
       "      <td>0</td>\n",
       "      <td>0</td>\n",
       "      <td>0</td>\n",
       "      <td>2</td>\n",
       "    </tr>\n",
       "    <tr>\n",
       "      <th>Other</th>\n",
       "      <td>35</td>\n",
       "      <td>1</td>\n",
       "      <td>1</td>\n",
       "      <td>21</td>\n",
       "      <td>0</td>\n",
       "    </tr>\n",
       "  </tbody>\n",
       "</table>\n",
       "</div>"
      ],
      "text/plain": [
       "Manager_Current_Designation  Level 1  Level 2  Level 3  Level 4  Level 5\n",
       "Manager_Joining_Designation                                             \n",
       "Level 1                         2444     1247      611      302       28\n",
       "Level 2                            0     1960      324      455       48\n",
       "Level 3                            0        0     1097       49        0\n",
       "Level 4                            0        0        0      200        0\n",
       "Level 5                            0        0        0        0        1\n",
       "Level 6                            0        0        0        4       14\n",
       "Level 7                            0        0        0        0        2\n",
       "Other                             35        1        1       21        0"
      ]
     },
     "execution_count": 60,
     "metadata": {},
     "output_type": "execute_result"
    }
   ],
   "source": [
    "Ho = \"Joining_Designation has no effect on Current_Designation \"   # Stating the Null Hypothesis\n",
    "Ha = \"Joining_Designation has an effect on Current_Designation \"   # Stating the Alternate Hypothesis\n",
    "\n",
    "crosstab = pd.crosstab(df['Manager_Joining_Designation'],df['Manager_Current_Designation'])  # Contingency table of sex and smoker attributes\n",
    "\n",
    "chi, p_value, dof, expected =  stats.chi2_contingency(crosstab)\n",
    "\n",
    "if p_value < 0.05:  # Setting our significance level at 5%\n",
    "    print(f'{Ha} as the p_value ({p_value.round(3)}) < 0.05')\n",
    "else:\n",
    "    print(f'{Ho} as the p_value ({p_value.round(3)}) > 0.05')\n",
    "crosstab"
   ]
  },
  {
   "cell_type": "code",
   "execution_count": 61,
   "metadata": {},
   "outputs": [],
   "source": [
    "df.drop(\"Manager_Joining_Designation\",axis=1,inplace=True)"
   ]
  },
  {
   "cell_type": "code",
   "execution_count": 62,
   "metadata": {},
   "outputs": [
    {
     "name": "stdout",
     "output_type": "stream",
     "text": [
      "Manager_grade has an effect on Current_Designation  as the p_value (0.0) < 0.05\n"
     ]
    },
    {
     "data": {
      "text/html": [
       "<div>\n",
       "<style scoped>\n",
       "    .dataframe tbody tr th:only-of-type {\n",
       "        vertical-align: middle;\n",
       "    }\n",
       "\n",
       "    .dataframe tbody tr th {\n",
       "        vertical-align: top;\n",
       "    }\n",
       "\n",
       "    .dataframe thead th {\n",
       "        text-align: right;\n",
       "    }\n",
       "</style>\n",
       "<table border=\"1\" class=\"dataframe\">\n",
       "  <thead>\n",
       "    <tr style=\"text-align: right;\">\n",
       "      <th>Manager_Current_Designation</th>\n",
       "      <th>Level 1</th>\n",
       "      <th>Level 2</th>\n",
       "      <th>Level 3</th>\n",
       "      <th>Level 4</th>\n",
       "      <th>Level 5</th>\n",
       "    </tr>\n",
       "    <tr>\n",
       "      <th>Manager_Grade</th>\n",
       "      <th></th>\n",
       "      <th></th>\n",
       "      <th></th>\n",
       "      <th></th>\n",
       "      <th></th>\n",
       "    </tr>\n",
       "  </thead>\n",
       "  <tbody>\n",
       "    <tr>\n",
       "      <th>1.0</th>\n",
       "      <td>8</td>\n",
       "      <td>0</td>\n",
       "      <td>0</td>\n",
       "      <td>0</td>\n",
       "      <td>0</td>\n",
       "    </tr>\n",
       "    <tr>\n",
       "      <th>2.0</th>\n",
       "      <td>2471</td>\n",
       "      <td>0</td>\n",
       "      <td>0</td>\n",
       "      <td>0</td>\n",
       "      <td>0</td>\n",
       "    </tr>\n",
       "    <tr>\n",
       "      <th>3.0</th>\n",
       "      <td>0</td>\n",
       "      <td>3201</td>\n",
       "      <td>6</td>\n",
       "      <td>0</td>\n",
       "      <td>0</td>\n",
       "    </tr>\n",
       "    <tr>\n",
       "      <th>4.0</th>\n",
       "      <td>0</td>\n",
       "      <td>5</td>\n",
       "      <td>2027</td>\n",
       "      <td>6</td>\n",
       "      <td>0</td>\n",
       "    </tr>\n",
       "    <tr>\n",
       "      <th>5.0</th>\n",
       "      <td>0</td>\n",
       "      <td>2</td>\n",
       "      <td>0</td>\n",
       "      <td>664</td>\n",
       "      <td>0</td>\n",
       "    </tr>\n",
       "    <tr>\n",
       "      <th>6.0</th>\n",
       "      <td>0</td>\n",
       "      <td>0</td>\n",
       "      <td>0</td>\n",
       "      <td>330</td>\n",
       "      <td>76</td>\n",
       "    </tr>\n",
       "    <tr>\n",
       "      <th>7.0</th>\n",
       "      <td>0</td>\n",
       "      <td>0</td>\n",
       "      <td>0</td>\n",
       "      <td>22</td>\n",
       "      <td>0</td>\n",
       "    </tr>\n",
       "    <tr>\n",
       "      <th>8.0</th>\n",
       "      <td>0</td>\n",
       "      <td>0</td>\n",
       "      <td>0</td>\n",
       "      <td>0</td>\n",
       "      <td>14</td>\n",
       "    </tr>\n",
       "    <tr>\n",
       "      <th>9.0</th>\n",
       "      <td>0</td>\n",
       "      <td>0</td>\n",
       "      <td>0</td>\n",
       "      <td>4</td>\n",
       "      <td>3</td>\n",
       "    </tr>\n",
       "    <tr>\n",
       "      <th>10.0</th>\n",
       "      <td>0</td>\n",
       "      <td>0</td>\n",
       "      <td>0</td>\n",
       "      <td>5</td>\n",
       "      <td>0</td>\n",
       "    </tr>\n",
       "  </tbody>\n",
       "</table>\n",
       "</div>"
      ],
      "text/plain": [
       "Manager_Current_Designation  Level 1  Level 2  Level 3  Level 4  Level 5\n",
       "Manager_Grade                                                           \n",
       "1.0                                8        0        0        0        0\n",
       "2.0                             2471        0        0        0        0\n",
       "3.0                                0     3201        6        0        0\n",
       "4.0                                0        5     2027        6        0\n",
       "5.0                                0        2        0      664        0\n",
       "6.0                                0        0        0      330       76\n",
       "7.0                                0        0        0       22        0\n",
       "8.0                                0        0        0        0       14\n",
       "9.0                                0        0        0        4        3\n",
       "10.0                               0        0        0        5        0"
      ]
     },
     "execution_count": 62,
     "metadata": {},
     "output_type": "execute_result"
    }
   ],
   "source": [
    "Ho = \"Manager_grade has no effect on Current_Designation \"   # Stating the Null Hypothesis\n",
    "Ha = \"Manager_grade has an effect on Current_Designation \"   # Stating the Alternate Hypothesis\n",
    "\n",
    "crosstab = pd.crosstab(df['Manager_Grade'],df['Manager_Current_Designation'])  # Contingency table of sex and smoker attributes\n",
    "\n",
    "chi, p_value, dof, expected =  stats.chi2_contingency(crosstab)\n",
    "\n",
    "if p_value < 0.05:  # Setting our significance level at 5%\n",
    "    print(f'{Ha} as the p_value ({p_value.round(3)}) < 0.05')\n",
    "else:\n",
    "    print(f'{Ho} as the p_value ({p_value.round(3)}) > 0.05')\n",
    "crosstab"
   ]
  },
  {
   "cell_type": "code",
   "execution_count": 63,
   "metadata": {},
   "outputs": [],
   "source": [
    "df.drop(\"Manager_Grade\",axis=1,inplace=True)"
   ]
  },
  {
   "cell_type": "code",
   "execution_count": 64,
   "metadata": {},
   "outputs": [
    {
     "data": {
      "text/plain": [
       "Application_Receipt_Date       0.000000\n",
       "Applicant_City_PIN             0.000000\n",
       "Applicant_Gender               0.000000\n",
       "Applicant_Marital_Status       0.000000\n",
       "Applicant_Occupation           0.000000\n",
       "Applicant_Qualification        0.000000\n",
       "Manager_DOJ                    7.169098\n",
       "Manager_Current_Designation    7.169098\n",
       "Manager_Status                 7.169098\n",
       "Manager_Gender                 7.169098\n",
       "Manager_DoB                    7.169098\n",
       "Manager_Num_Application        7.169098\n",
       "Manager_Business               7.169098\n",
       "Business_Sourced               0.000000\n",
       "Applicant_age                  0.000000\n",
       "dtype: float64"
      ]
     },
     "execution_count": 64,
     "metadata": {},
     "output_type": "execute_result"
    }
   ],
   "source": [
    "100* df.isnull().sum()/len(df)"
   ]
  },
  {
   "cell_type": "code",
   "execution_count": 65,
   "metadata": {},
   "outputs": [
    {
     "data": {
      "text/plain": [
       "Application_Receipt_Date       datetime64[ns]\n",
       "Applicant_City_PIN                    float64\n",
       "Applicant_Gender                       object\n",
       "Applicant_Marital_Status               object\n",
       "Applicant_Occupation                   object\n",
       "Applicant_Qualification                object\n",
       "Manager_DOJ                            object\n",
       "Manager_Current_Designation            object\n",
       "Manager_Status                         object\n",
       "Manager_Gender                         object\n",
       "Manager_DoB                            object\n",
       "Manager_Num_Application               float64\n",
       "Manager_Business                      float64\n",
       "Business_Sourced                        int64\n",
       "Applicant_age                         float64\n",
       "dtype: object"
      ]
     },
     "execution_count": 65,
     "metadata": {},
     "output_type": "execute_result"
    }
   ],
   "source": [
    "df.dtypes"
   ]
  },
  {
   "cell_type": "code",
   "execution_count": 68,
   "metadata": {},
   "outputs": [
    {
     "data": {
      "text/plain": [
       "2007    6394\n",
       "2008    3133\n",
       "Name: Application_Receipt_Date, dtype: int64"
      ]
     },
     "execution_count": 68,
     "metadata": {},
     "output_type": "execute_result"
    }
   ],
   "source": [
    "df.Application_Receipt_Date.dt.year.value_counts()"
   ]
  },
  {
   "cell_type": "code",
   "execution_count": 69,
   "metadata": {},
   "outputs": [],
   "source": [
    "df['year'] = pd.DatetimeIndex(df['Application_Receipt_Date']).year\n",
    "df['month'] = pd.DatetimeIndex(df['Application_Receipt_Date']).month"
   ]
  },
  {
   "cell_type": "code",
   "execution_count": 71,
   "metadata": {},
   "outputs": [
    {
     "data": {
      "text/html": [
       "<div>\n",
       "<style scoped>\n",
       "    .dataframe tbody tr th:only-of-type {\n",
       "        vertical-align: middle;\n",
       "    }\n",
       "\n",
       "    .dataframe tbody tr th {\n",
       "        vertical-align: top;\n",
       "    }\n",
       "\n",
       "    .dataframe thead th {\n",
       "        text-align: right;\n",
       "    }\n",
       "</style>\n",
       "<table border=\"1\" class=\"dataframe\">\n",
       "  <thead>\n",
       "    <tr style=\"text-align: right;\">\n",
       "      <th></th>\n",
       "      <th>Application_Receipt_Date</th>\n",
       "      <th>Applicant_City_PIN</th>\n",
       "      <th>Applicant_Gender</th>\n",
       "      <th>Applicant_Marital_Status</th>\n",
       "      <th>Applicant_Occupation</th>\n",
       "      <th>Applicant_Qualification</th>\n",
       "      <th>Manager_DOJ</th>\n",
       "      <th>Manager_Current_Designation</th>\n",
       "      <th>Manager_Status</th>\n",
       "      <th>Manager_Gender</th>\n",
       "      <th>Manager_DoB</th>\n",
       "      <th>Manager_Num_Application</th>\n",
       "      <th>Manager_Business</th>\n",
       "      <th>Business_Sourced</th>\n",
       "      <th>Applicant_age</th>\n",
       "      <th>year</th>\n",
       "      <th>month</th>\n",
       "      <th>month_year</th>\n",
       "    </tr>\n",
       "  </thead>\n",
       "  <tbody>\n",
       "    <tr>\n",
       "      <th>0</th>\n",
       "      <td>2007-04-16</td>\n",
       "      <td>844120.0</td>\n",
       "      <td>M</td>\n",
       "      <td>Married</td>\n",
       "      <td>Others</td>\n",
       "      <td>Graduate</td>\n",
       "      <td>11/10/2005</td>\n",
       "      <td>Level 2</td>\n",
       "      <td>Confirmation</td>\n",
       "      <td>M</td>\n",
       "      <td>2/17/1978</td>\n",
       "      <td>2.0</td>\n",
       "      <td>335249.0</td>\n",
       "      <td>0</td>\n",
       "      <td>48.0</td>\n",
       "      <td>2007</td>\n",
       "      <td>4</td>\n",
       "      <td>2007-04</td>\n",
       "    </tr>\n",
       "    <tr>\n",
       "      <th>1</th>\n",
       "      <td>2007-04-16</td>\n",
       "      <td>844111.0</td>\n",
       "      <td>M</td>\n",
       "      <td>Single</td>\n",
       "      <td>Others</td>\n",
       "      <td>Class XII</td>\n",
       "      <td>11/10/2005</td>\n",
       "      <td>Level 2</td>\n",
       "      <td>Confirmation</td>\n",
       "      <td>M</td>\n",
       "      <td>2/17/1978</td>\n",
       "      <td>2.0</td>\n",
       "      <td>335249.0</td>\n",
       "      <td>1</td>\n",
       "      <td>37.0</td>\n",
       "      <td>2007</td>\n",
       "      <td>4</td>\n",
       "      <td>2007-04</td>\n",
       "    </tr>\n",
       "    <tr>\n",
       "      <th>2</th>\n",
       "      <td>2007-04-16</td>\n",
       "      <td>844101.0</td>\n",
       "      <td>M</td>\n",
       "      <td>Married</td>\n",
       "      <td>Business</td>\n",
       "      <td>Class XII</td>\n",
       "      <td>5/27/2006</td>\n",
       "      <td>Level 1</td>\n",
       "      <td>Confirmation</td>\n",
       "      <td>M</td>\n",
       "      <td>3/3/1969</td>\n",
       "      <td>0.0</td>\n",
       "      <td>357184.0</td>\n",
       "      <td>0</td>\n",
       "      <td>54.0</td>\n",
       "      <td>2007</td>\n",
       "      <td>4</td>\n",
       "      <td>2007-04</td>\n",
       "    </tr>\n",
       "    <tr>\n",
       "      <th>3</th>\n",
       "      <td>2007-04-16</td>\n",
       "      <td>814112.0</td>\n",
       "      <td>M</td>\n",
       "      <td>Single</td>\n",
       "      <td>Salaried</td>\n",
       "      <td>Class XII</td>\n",
       "      <td>8/21/2003</td>\n",
       "      <td>Level 3</td>\n",
       "      <td>Confirmation</td>\n",
       "      <td>F</td>\n",
       "      <td>8/14/1978</td>\n",
       "      <td>0.0</td>\n",
       "      <td>318356.0</td>\n",
       "      <td>0</td>\n",
       "      <td>32.0</td>\n",
       "      <td>2007</td>\n",
       "      <td>4</td>\n",
       "      <td>2007-04</td>\n",
       "    </tr>\n",
       "    <tr>\n",
       "      <th>4</th>\n",
       "      <td>2007-04-16</td>\n",
       "      <td>815351.0</td>\n",
       "      <td>M</td>\n",
       "      <td>Married</td>\n",
       "      <td>Others</td>\n",
       "      <td>Class XII</td>\n",
       "      <td>5/8/2006</td>\n",
       "      <td>Level 1</td>\n",
       "      <td>Confirmation</td>\n",
       "      <td>M</td>\n",
       "      <td>2/7/1971</td>\n",
       "      <td>2.0</td>\n",
       "      <td>230402.0</td>\n",
       "      <td>0</td>\n",
       "      <td>35.0</td>\n",
       "      <td>2007</td>\n",
       "      <td>4</td>\n",
       "      <td>2007-04</td>\n",
       "    </tr>\n",
       "  </tbody>\n",
       "</table>\n",
       "</div>"
      ],
      "text/plain": [
       "  Application_Receipt_Date  Applicant_City_PIN Applicant_Gender  \\\n",
       "0               2007-04-16            844120.0                M   \n",
       "1               2007-04-16            844111.0                M   \n",
       "2               2007-04-16            844101.0                M   \n",
       "3               2007-04-16            814112.0                M   \n",
       "4               2007-04-16            815351.0                M   \n",
       "\n",
       "  Applicant_Marital_Status Applicant_Occupation Applicant_Qualification  \\\n",
       "0                  Married               Others                Graduate   \n",
       "1                   Single               Others               Class XII   \n",
       "2                  Married             Business               Class XII   \n",
       "3                   Single             Salaried               Class XII   \n",
       "4                  Married               Others               Class XII   \n",
       "\n",
       "  Manager_DOJ Manager_Current_Designation Manager_Status Manager_Gender  \\\n",
       "0  11/10/2005                     Level 2   Confirmation              M   \n",
       "1  11/10/2005                     Level 2   Confirmation              M   \n",
       "2   5/27/2006                     Level 1   Confirmation              M   \n",
       "3   8/21/2003                     Level 3   Confirmation              F   \n",
       "4    5/8/2006                     Level 1   Confirmation              M   \n",
       "\n",
       "  Manager_DoB  Manager_Num_Application  Manager_Business  Business_Sourced  \\\n",
       "0   2/17/1978                      2.0          335249.0                 0   \n",
       "1   2/17/1978                      2.0          335249.0                 1   \n",
       "2    3/3/1969                      0.0          357184.0                 0   \n",
       "3   8/14/1978                      0.0          318356.0                 0   \n",
       "4    2/7/1971                      2.0          230402.0                 0   \n",
       "\n",
       "   Applicant_age  year  month month_year  \n",
       "0           48.0  2007      4    2007-04  \n",
       "1           37.0  2007      4    2007-04  \n",
       "2           54.0  2007      4    2007-04  \n",
       "3           32.0  2007      4    2007-04  \n",
       "4           35.0  2007      4    2007-04  "
      ]
     },
     "execution_count": 71,
     "metadata": {},
     "output_type": "execute_result"
    }
   ],
   "source": [
    "df['month_year'] = pd.to_datetime(df['Application_Receipt_Date']).dt.to_period('M')\n",
    "df.head()"
   ]
  },
  {
   "cell_type": "code",
   "execution_count": 72,
   "metadata": {},
   "outputs": [
    {
     "data": {
      "text/plain": [
       "2007-05    1077\n",
       "2007-11     912\n",
       "2007-12     845\n",
       "2008-05     829\n",
       "2007-08     723\n",
       "2008-06     717\n",
       "2007-07     697\n",
       "2007-04     580\n",
       "2007-10     567\n",
       "2008-01     530\n",
       "2007-09     522\n",
       "2007-06     471\n",
       "2008-04     434\n",
       "2008-02     418\n",
       "2008-03     187\n",
       "2008-07      18\n",
       "Freq: M, Name: month_year, dtype: int64"
      ]
     },
     "execution_count": 72,
     "metadata": {},
     "output_type": "execute_result"
    }
   ],
   "source": [
    "df['month_year'].value_counts()"
   ]
  },
  {
   "cell_type": "code",
   "execution_count": 73,
   "metadata": {},
   "outputs": [],
   "source": [
    "df.drop([\"Application_Receipt_Date\",\"year\",\"month\"],axis=1,inplace=True)"
   ]
  },
  {
   "cell_type": "code",
   "execution_count": 78,
   "metadata": {},
   "outputs": [],
   "source": [
    "df[\"Applicant_City_PIN\"]=df[\"Applicant_City_PIN\"].astype(\"int64\")\n",
    "#df[\"Manager_Num_Application\"]=df[\"Manager_Num_Application\"].astype(\"int64\")\n",
    "#df[\"Manager_Business\"]=df[\"Manager_Business\"].astype(\"int64\")\n",
    "df[\"Applicant_age\"]=df[\"Applicant_age\"].astype(\"int64\")"
   ]
  },
  {
   "cell_type": "code",
   "execution_count": 81,
   "metadata": {},
   "outputs": [],
   "source": [
    "df2=df.dropna()"
   ]
  },
  {
   "cell_type": "code",
   "execution_count": 82,
   "metadata": {},
   "outputs": [
    {
     "data": {
      "text/plain": [
       "(9527, 15)"
      ]
     },
     "execution_count": 82,
     "metadata": {},
     "output_type": "execute_result"
    }
   ],
   "source": [
    "df.shape"
   ]
  },
  {
   "cell_type": "code",
   "execution_count": 83,
   "metadata": {},
   "outputs": [
    {
     "data": {
      "text/plain": [
       "(8844, 15)"
      ]
     },
     "execution_count": 83,
     "metadata": {},
     "output_type": "execute_result"
    }
   ],
   "source": [
    "df2.shape"
   ]
  },
  {
   "cell_type": "code",
   "execution_count": 84,
   "metadata": {},
   "outputs": [
    {
     "data": {
      "text/plain": [
       "Applicant_City_PIN                 int64\n",
       "Applicant_Gender                  object\n",
       "Applicant_Marital_Status          object\n",
       "Applicant_Occupation              object\n",
       "Applicant_Qualification           object\n",
       "Manager_DOJ                       object\n",
       "Manager_Current_Designation       object\n",
       "Manager_Status                    object\n",
       "Manager_Gender                    object\n",
       "Manager_DoB                       object\n",
       "Manager_Num_Application          float64\n",
       "Manager_Business                 float64\n",
       "Business_Sourced                   int64\n",
       "Applicant_age                      int64\n",
       "month_year                     period[M]\n",
       "dtype: object"
      ]
     },
     "execution_count": 84,
     "metadata": {},
     "output_type": "execute_result"
    }
   ],
   "source": [
    "df.dtypes"
   ]
  }
 ],
 "metadata": {
  "kernelspec": {
   "display_name": "Python 3",
   "language": "python",
   "name": "python3"
  },
  "language_info": {
   "codemirror_mode": {
    "name": "ipython",
    "version": 3
   },
   "file_extension": ".py",
   "mimetype": "text/x-python",
   "name": "python",
   "nbconvert_exporter": "python",
   "pygments_lexer": "ipython3",
   "version": "3.7.6"
  }
 },
 "nbformat": 4,
 "nbformat_minor": 4
}
